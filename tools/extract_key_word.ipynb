{
 "cells": [
  {
   "cell_type": "markdown",
   "id": "2f414174",
   "metadata": {},
   "source": [
    "## 提取文本的时间"
   ]
  },
  {
   "cell_type": "markdown",
   "id": "d06d0dcc",
   "metadata": {},
   "source": [
    "## 使用ltp库\n",
    "[doc](https://ltp.readthedocs.io/zh_CN/latest/quickstart.html)\n",
    "[github](https://github.com/HIT-SCIR/ltp)"
   ]
  },
  {
   "cell_type": "code",
   "execution_count": 3,
   "id": "8d8d6fa4",
   "metadata": {},
   "outputs": [],
   "source": [
    "from ltp import LTP\n",
    "ltp = LTP() # 默认加载 Small 模型"
   ]
  },
  {
   "cell_type": "markdown",
   "id": "5e3285fc",
   "metadata": {},
   "source": [
    "### 分句"
   ]
  },
  {
   "cell_type": "code",
   "execution_count": 19,
   "id": "d1c35d5d",
   "metadata": {},
   "outputs": [],
   "source": [
    "sents = ltp.sent_split([\"他叫汤姆去拿外衣。\", \"汤姆生病了.。他去了医院。\"])"
   ]
  },
  {
   "cell_type": "code",
   "execution_count": 20,
   "id": "20ab2d93",
   "metadata": {},
   "outputs": [
    {
     "data": {
      "text/plain": [
       "['他叫汤姆去拿外衣。', '汤姆生病了.', '。', '他去了医院。']"
      ]
     },
     "execution_count": 20,
     "metadata": {},
     "output_type": "execute_result"
    }
   ],
   "source": [
    "sents"
   ]
  },
  {
   "cell_type": "markdown",
   "id": "bc16dcc5",
   "metadata": {},
   "source": [
    "### 分词"
   ]
  },
  {
   "cell_type": "code",
   "execution_count": 5,
   "id": "b79af002",
   "metadata": {},
   "outputs": [
    {
     "name": "stdout",
     "output_type": "stream",
     "text": [
      "[['他', '叫', '汤姆', '去', '拿', '外衣', '。']]\n"
     ]
    }
   ],
   "source": [
    "segment, _ = ltp.seg([\"他叫汤姆去拿外衣。\"])\n",
    "print(segment, )"
   ]
  },
  {
   "cell_type": "markdown",
   "id": "97d428ca",
   "metadata": {},
   "source": [
    "###  ner\n",
    "```\n",
    "{\n",
    "    \"Nh\": \"person\",\n",
    "    \"Ns\": \"loc\",\n",
    "    \"Ni\": \"org\"\n",
    "}\n",
    "```"
   ]
  },
  {
   "cell_type": "code",
   "execution_count": 7,
   "id": "1f4b3558",
   "metadata": {},
   "outputs": [
    {
     "name": "stdout",
     "output_type": "stream",
     "text": [
      "loc : 1 美国\n",
      "loc : 5 美\n",
      "loc : 6 英\n",
      "loc : 7 澳\n",
      "loc : 23 美\n",
      "loc : 24 英\n",
      "loc : 27 澳\n",
      "loc : 33 澳\n",
      "loc : 36 美英\n",
      "loc : 39 澳\n",
      "org : 49 法国\n"
     ]
    }
   ],
   "source": [
    "seg, hidden = ltp.seg([\"在美国主导下，美英澳三国于2021年9月15日宣布建立新的三边安全伙伴关系，美英将支持澳海军建立核潜艇部队，澳将与美英合作在澳建造核潜艇。澳方随即宣布，撕毁与法国海军集团签订的数百亿美元潜艇大单。\"])\n",
    "ner = ltp.ner(hidden)\n",
    "# [['他', '叫', '汤姆', '去', '拿', '外衣', '。']]\n",
    "# [[('Nh', 2, 2)]]\n",
    "\n",
    "tag_dict = {\n",
    "    \"Nh\": \"person\",\n",
    "    \"Ns\": \"loc\",\n",
    "    \"Ni\": \"org\"\n",
    "}\n",
    "\n",
    "for tag, start, end in ner[0]:\n",
    "    print(tag_dict[tag],\":\", start, \"\".join(seg[0][start:end + 1]))"
   ]
  },
  {
   "cell_type": "code",
   "execution_count": 5,
   "id": "ad5e15b4",
   "metadata": {},
   "outputs": [
    {
     "data": {
      "text/plain": [
       "[[('Ns', 1, 1),\n",
       "  ('Ns', 5, 5),\n",
       "  ('Ns', 6, 6),\n",
       "  ('Ns', 7, 7),\n",
       "  ('Ns', 23, 23),\n",
       "  ('Ns', 24, 24),\n",
       "  ('Ns', 27, 27),\n",
       "  ('Ns', 33, 33),\n",
       "  ('Ns', 36, 36),\n",
       "  ('Ns', 39, 39),\n",
       "  ('Ni', 49, 49)]]"
      ]
     },
     "execution_count": 5,
     "metadata": {},
     "output_type": "execute_result"
    }
   ],
   "source": [
    "ner"
   ]
  },
  {
   "cell_type": "markdown",
   "id": "7e92acca",
   "metadata": {},
   "source": [
    "### 语义角色标注"
   ]
  },
  {
   "cell_type": "code",
   "execution_count": 8,
   "id": "2d5635be",
   "metadata": {},
   "outputs": [],
   "source": [
    "sent = \"在美国主导下，美英澳三国于2021年9月15日宣布建立新的三边安全伙伴关系，美英将支持澳海军建立核潜艇部队，澳将与美英合作在澳建造核潜艇。澳方随即宣布，撕毁与法国海军集团签订的数百亿美元潜艇大单。\""
   ]
  },
  {
   "cell_type": "code",
   "execution_count": 9,
   "id": "3f88211a",
   "metadata": {},
   "outputs": [],
   "source": [
    "sents = ltp.sent_split([sent])"
   ]
  },
  {
   "cell_type": "code",
   "execution_count": 10,
   "id": "488e0bee",
   "metadata": {},
   "outputs": [
    {
     "name": "stdout",
     "output_type": "stream",
     "text": [
      "['在美国主导下，美英澳三国于2021年9月15日宣布建立新的三边安全伙伴关系，美英将支持澳海军建立核潜艇部队，澳将与美英合作在澳建造核潜艇。', '澳方随即宣布，撕毁与法国海军集团签订的数百亿美元潜艇大单。']\n"
     ]
    }
   ],
   "source": [
    "print(sents)"
   ]
  },
  {
   "cell_type": "code",
   "execution_count": 11,
   "id": "ef350b12",
   "metadata": {},
   "outputs": [],
   "source": [
    "segs, hidden = ltp.seg(sents)\n",
    "srls = ltp.srl(hidden, keep_empty=False)"
   ]
  },
  {
   "cell_type": "code",
   "execution_count": 12,
   "id": "0d413743",
   "metadata": {},
   "outputs": [
    {
     "name": "stdout",
     "output_type": "stream",
     "text": [
      "[['在', '美国', '主导', '下', '，', '美', '英', '澳', '三', '国', '于', '2021年', '9月', '15日', '宣布', '建立', '新', '的', '三边', '安全', '伙伴', '关系', '，', '美', '英', '将', '支持', '澳', '海军', '建立', '核潜艇', '部队', '，', '澳', '将', '与', '美英', '合作', '在', '澳', '建造', '核潜艇', '。'], ['澳方', '随即', '宣布', '，', '撕毁', '与', '法国', '海军', '集团', '签订', '的', '数百亿', '美元', '潜艇', '大单', '。']]\n"
     ]
    }
   ],
   "source": [
    "print(segs)"
   ]
  },
  {
   "cell_type": "code",
   "execution_count": 13,
   "id": "a6d619bb",
   "metadata": {},
   "outputs": [
    {
     "name": "stdout",
     "output_type": "stream",
     "text": [
      "在美国主导下，美英澳三国于2021年9月15日宣布建立新的三边安全伙伴关系，美英将支持澳海军建立核潜艇部队，澳将与美英合作在澳建造核潜艇。澳方随即宣布，撕毁与法国海军集团签订的数百亿美元潜艇大单。\n",
      "************************************************************\n",
      "A0 美国\n",
      "************************************************************\n",
      "ARGM-MNR 在美国主导下\n",
      "A0 美英澳三国\n",
      "ARGM-TMP 于2021年9月15日\n",
      "A1 建立新的三边安全伙伴关系\n",
      "************************************************************\n",
      "A1 新的三边安全伙伴关系\n",
      "************************************************************\n",
      "A0 美英\n",
      "ARGM-ADV 将\n",
      "A1 澳海军建立核潜艇部队\n",
      "************************************************************\n",
      "A0 澳海军\n",
      "A1 核潜艇部队\n",
      "************************************************************\n",
      "A0 澳\n",
      "ARGM-ADV 将\n",
      "A0-CRD 与美英\n",
      "************************************************************\n",
      "A0 澳\n",
      "ARGM-LOC 在澳\n",
      "A1 核潜艇\n",
      "************************************************************\n",
      "A0 澳方\n",
      "ARGM-ADV 随即\n",
      "A1 撕毁与法国海军集团签订的数百亿美元潜艇大单\n",
      "************************************************************\n",
      "A1 与法国海军集团签订的数百亿美元潜艇大单\n",
      "************************************************************\n",
      "A0 与法国海军集团\n",
      "A1 潜艇大单\n",
      "************************************************************\n"
     ]
    }
   ],
   "source": [
    "print(sent)\n",
    "print(\"*\"*60)\n",
    "for seg, srl in zip(segs, srls):\n",
    "    for token_srl in srl:\n",
    "        role = seg[token_srl[0]]\n",
    "        args = token_srl[1]\n",
    "        \n",
    "        for arg in args:\n",
    "            print(arg[0], \"\".join(seg[arg[1]: arg[2]+1]))\n",
    "        print(\"*\"*60)"
   ]
  },
  {
   "cell_type": "markdown",
   "id": "b339f3c0",
   "metadata": {},
   "source": [
    "### 封装为函数\n",
    "```\n",
    "function: srl()\n",
    "input: text\n",
    "output: {\"text\": text, \"srl_list\":[\n",
    "                [[type, start, end, text], [type, start, end, text]],\n",
    "            ]\n",
    "        }\n",
    "```"
   ]
  },
  {
   "cell_type": "code",
   "execution_count": 5,
   "id": "b4ebf54b",
   "metadata": {},
   "outputs": [],
   "source": [
    "from ltp import LTP\n",
    "ltp = LTP() # 默认加载 Small 模型\n",
    "\n",
    "def srl_process(text, is_print = False):\n",
    "    res = {\"text\": \"\", \"srl_list\":[]}\n",
    "    sents = ltp.sent_split([text])\n",
    "    segs, hidden = ltp.seg(sents)\n",
    "    srls = ltp.srl(hidden, keep_empty=False)\n",
    "    cur_text = \"\"\n",
    "    cur_len = 0\n",
    "    for seg, srl in zip(segs, srls):\n",
    "        tmp = []\n",
    "        for token_srl in srl:\n",
    "            role = seg[token_srl[0]]\n",
    "            args = token_srl[1]\n",
    "            args_type = [it[0] for it in args]\n",
    "            if \"ARGM-TMP\" in args_type:\n",
    "                for arg in args:\n",
    "                    if is_print:\n",
    "                        print(arg[0], \"\".join(seg[arg[1]: arg[2]+1]))\n",
    "                    start = cur_len+len(\"\".join(seg[:arg[1]]))\n",
    "                    end = cur_len+len(\"\".join(seg[:arg[2]+1]))\n",
    "                    _type = arg[0]\n",
    "                    if _type == \"ARGM-TMP\":\n",
    "                        _type = \"temporal\"\n",
    "                    tmp.append([_type, start, end, \"\".join(seg[arg[1]: arg[2]+1])])\n",
    "                if is_print: \n",
    "                    print(\"*\"*60)\n",
    "        cur_text += \"\".join(seg)\n",
    "        cur_len += len(\"\".join(seg))\n",
    "        if len(tmp) > 0:\n",
    "            res[\"srl_list\"].append(tmp)\n",
    "    res[\"text\"] = cur_text\n",
    "    return res\n",
    "        \n",
    "    "
   ]
  },
  {
   "cell_type": "code",
   "execution_count": 6,
   "id": "89d6fc8f",
   "metadata": {},
   "outputs": [
    {
     "name": "stdout",
     "output_type": "stream",
     "text": [
      "True\n",
      "['A0', 0, 5, '美英澳三国']\n",
      "True\n",
      "['temporal', 5, 10, '9月15日']\n",
      "True\n",
      "['A1', 12, 34, '组建名为“AUKUS（奥库斯）”的新安全联盟']\n",
      "************************************************************\n",
      "True\n",
      "['temporal', 207, 209, '目前']\n",
      "True\n",
      "['A0', 209, 211, '各方']\n",
      "True\n",
      "['A1', 214, 216, '信息']\n",
      "************************************************************\n",
      "True\n",
      "['ARGM-MNR', 381, 386, '据澳媒报道']\n",
      "True\n",
      "['ARGM-PRP', 387, 403, '为让澳方提前熟悉核潜艇的操作规程']\n",
      "True\n",
      "['A0', 404, 406, '美军']\n",
      "True\n",
      "['ARGM-ADV', 406, 407, '将']\n",
      "True\n",
      "['temporal', 407, 410, '于近期']\n",
      "True\n",
      "['A1', 412, 421, '数艘弗吉尼亚级潜艇']\n",
      "True\n",
      "['A2', 421, 431, '进驻澳斯特林海军基地']\n",
      "************************************************************\n",
      "True\n",
      "['temporal', 570, 574, '脱欧”后']\n",
      "True\n",
      "['A1', 576, 582, '全球战略调整']\n",
      "True\n",
      "['ARGM-MNR', 585, 587, '契机']\n",
      "True\n",
      "['temporal', 589, 591, '未来']\n",
      "True\n",
      "['ARGM-LOC', 591, 596, '在亚太地区']\n",
      "True\n",
      "['A1', 598, 604, '长期军事存在']\n",
      "************************************************************\n",
      "True\n",
      "['A0', 658, 660, '澳欲']\n",
      "True\n",
      "['temporal', 675, 680, '在短时间内']\n",
      "True\n",
      "['ARGM-DIR', 680, 685, '向邻近海域']\n",
      "True\n",
      "['A2', 687, 691, '作战单元']\n",
      "************************************************************\n",
      "True\n",
      "['temporal', 778, 781, '15日']\n",
      "True\n",
      "['A1', 786, 788, '声明']\n",
      "************************************************************\n",
      "True\n",
      "['temporal', 912, 915, '17日']\n",
      "True\n",
      "['A0', 916, 923, '法国总统马克龙']\n",
      "True\n",
      "['A1', 926, 952, '召回驻美澳两国大使，将就澳单方面撕毁协议一事进行磋商']\n",
      "************************************************************\n",
      "True\n",
      "['A0', 1221, 1232, '欧盟委员会主席冯德莱恩']\n",
      "True\n",
      "['temporal', 1232, 1234, '近期']\n",
      "True\n",
      "['A1', 1236, 1242, '“盟情咨文”']\n",
      "True\n",
      "['A0', 1221, 1232, '欧盟委员会主席冯德莱恩']\n",
      "True\n",
      "['temporal', 1232, 1234, '近期']\n",
      "True\n",
      "['A1', 1245, 1276, '“阻碍欧盟在军事领域合作的不仅是能力不足，更是政治意愿的缺失”']\n",
      "************************************************************\n",
      "True\n",
      "['temporal', 1277, 1282, '此次事件后']\n",
      "True\n",
      "['ARGM-MNR', 1283, 1295, '作为欧盟一体化主要推动者']\n",
      "True\n",
      "['A0', 1296, 1298, '法国']\n",
      "True\n",
      "['ARGM-ADV', 1298, 1299, '已']\n",
      "True\n",
      "['A1', 1302, 1315, '强化欧洲“战略自主”的意愿']\n",
      "************************************************************\n"
     ]
    }
   ],
   "source": [
    "res = srl_process(\n",
    "    \"美英澳三国9月15日宣布组建名为“AUKUS（奥库斯）”的新安全联盟。作为该联盟的先行合作示范项目，美英将向澳提供核潜艇技术，助其组建核潜艇编队。此举意味着澳单方面撕毁与法国660亿美元（1美元约合6.65元人民币）的12艘常规潜艇采购协议。美英澳围绕核潜艇展开防务合作，不但进一步反映出西方内部矛盾与裂痕，更暴露相关国家在核不扩散问题上奉行的“双重标准”，引发的外溢效应或加剧地区国家间军备竞赛，冲击地区和平。从目前各方披露的信息看，美英将在新安全联盟框架下，向澳研制核潜艇提供必要技术支撑，澳将建造至少8艘核潜艇，总支出将超过659亿美元。为应对未来竞争，美将助澳发展核潜艇作为深化两国防务合作，锐化亚太军力布局的重要一环。美承诺出面协调澳潜艇的核材料供应。鉴于核技术的高度敏感性，美此前仅与英国有过类似合作，这体现出美对澳在亚太扮演重要军事角色的“重视”。据澳媒报道，为让澳方提前熟悉核潜艇的操作规程，美军将于近期派遣数艘弗吉尼亚级潜艇进驻澳斯特林海军基地。同时，美将向澳大利亚轮换部署所有类型美军战机，与澳共同打造为舰艇和战机提供后勤支持的联合作战能力。与美相比，英国拥有在自身潜艇上整合美技术和装备的能力与经验，这成为其为澳潜艇提供技术保障的主要原因。据悉，英国罗尔斯·罗伊斯公司将为澳潜艇提供核反应堆。此外，英将核潜艇项目视为“脱欧”后加速全球战略调整的重要契机，为未来在亚太地区保持长期军事存在奠定合作基础。在澳看来，核潜艇是跻身世界一流海军的标志。一旦协议落地，澳有望成为全球第7个装备核潜艇的国家。澳欲借此实现跨区域军力投送能力，并在短时间内向邻近海域派遣作战单元，扭转长期以来海军发展的颓势。此外，据澳媒16日消息称，为加强澳军事防御，澳将首次获得美国“战斧”巡航导弹。美英澳此番达成核潜艇建造协议，法国的回应最为激烈。法国外长和防长在15日发表的联合声明中，一方面指责美方的决定迫使法放弃与澳签署的潜艇采购协议，并将其排挤出与澳方的结构性伙伴关系，实属粗暴且不可预见的“背后捅刀”行为；另一方面批驳澳方的举动有违两国合作精神，不可接受。接着，法国取消与美国共同庆祝纪念“弗吉尼亚大海战240周年”活动。17日，法国总统马克龙下令，召回驻美澳两国大使，将就澳单方面撕毁协议一事进行磋商。同为“五眼联盟”成员的新西兰，对澳方发展核潜艇的举动并不买账。新西兰总理阿德恩表示，该国将继续执行始于1985年的核动力舰艇禁令，决不允许澳核潜艇驶入新西兰附近海域。在澳国内，绿党党首亚当·班特表示不认可莫里森政府的选择，并将核潜艇在当前海上安全环境中的处境比作“浮动的切尔诺贝利”。而澳政府一味追随美国的军事战略取向，将把自身置于地区冲突升级的“最前线”，并不符合澳“中等国家”的定位。此外，考虑到核潜艇本身设计建造的长周期属性，以及围绕相关敏感技术展开的漫长谈判进程，甚至连莫里森本人也不得不承认，澳核潜艇恐将推迟至2040年服役。欧盟委员会主席冯德莱恩近期发表“盟情咨文”表示，“阻碍欧盟在军事领域合作的不仅是能力不足，更是政治意愿的缺失”。此次事件后，作为欧盟一体化主要推动者，法国已表现出强化欧洲“战略自主”的意愿。明年恰逢法国主办欧盟防务峰会，法方势必借此进一步凝聚各方意志，为在缺少北约参与的情况下实施军事干预行动做足准备。美英作为拥核国家，一方面对伊朗等国核计划施以严格限制和打压，另一方面却扶持澳发展军用核技术，这种明目张胆\",\n",
    "    False\n",
    ")\n",
    "\n",
    "# print(res['text'])\n",
    "for _srl in res[\"srl_list\"]:\n",
    "    for one_srl in _srl:\n",
    "#         print(_srl)\n",
    "        print(res['text'][one_srl[1]:one_srl[2]] == one_srl[3])\n",
    "        print(one_srl)\n",
    "#         print(_srl)\n",
    "    print(\"*\"*60)"
   ]
  },
  {
   "cell_type": "code",
   "execution_count": null,
   "id": "93c63564",
   "metadata": {},
   "outputs": [],
   "source": []
  }
 ],
 "metadata": {
  "kernelspec": {
   "display_name": "Python 3 (ipykernel)",
   "language": "python",
   "name": "python3"
  },
  "language_info": {
   "codemirror_mode": {
    "name": "ipython",
    "version": 3
   },
   "file_extension": ".py",
   "mimetype": "text/x-python",
   "name": "python",
   "nbconvert_exporter": "python",
   "pygments_lexer": "ipython3",
   "version": "3.7.10"
  }
 },
 "nbformat": 4,
 "nbformat_minor": 5
}
